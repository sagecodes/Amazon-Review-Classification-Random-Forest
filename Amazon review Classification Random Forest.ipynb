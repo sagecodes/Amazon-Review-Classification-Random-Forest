{
 "cells": [
  {
   "cell_type": "markdown",
   "metadata": {},
   "source": [
    "\n",
    "\n",
    "Decision Trees\n",
    "Flowchart of questions about the data. Imagine it drawing lines through x & y axis from a 2d example. \n",
    "\n",
    "Decsion node is a questions about the data. \n",
    "Leaf is a decsion made. What class did you end up with.\n",
    "\n",
    "Random forest\n",
    "\n",
    " - Ensemble algorithm\n",
    " - creates set of decision trees from random subset of training set\n",
    " - combines votes from different decision trees to decide final class(leaf)\n",
    " - By taking average of prediction it reduces overfitting\n",
    " \n",
    " \n",
    "\n",
    "\n"
   ]
  },
  {
   "cell_type": "markdown",
   "metadata": {},
   "source": [
    "### Import Data & Libraries"
   ]
  },
  {
   "cell_type": "code",
   "execution_count": null,
   "metadata": {
    "collapsed": true
   },
   "outputs": [],
   "source": []
  }
 ],
 "metadata": {
  "kernelspec": {
   "display_name": "Python 3",
   "language": "python",
   "name": "python3"
  },
  "language_info": {
   "codemirror_mode": {
    "name": "ipython",
    "version": 3
   },
   "file_extension": ".py",
   "mimetype": "text/x-python",
   "name": "python",
   "nbconvert_exporter": "python",
   "pygments_lexer": "ipython3",
   "version": "3.5.4"
  }
 },
 "nbformat": 4,
 "nbformat_minor": 2
}
